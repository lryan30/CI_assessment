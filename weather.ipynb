{
 "cells": [
  {
   "cell_type": "markdown",
   "metadata": {},
   "source": [
    "# Weather data "
   ]
  },
  {
   "cell_type": "markdown",
   "metadata": {},
   "source": [
    "<p style=\"font-family:Helvetica Neue , sans-serif;\">Reference: https://github.com/ianmcloughlin/2425_computer_infrastructure/blob/main/README.md </p>"
   ]
  },
  {
   "cell_type": "markdown",
   "metadata": {},
   "source": [
    "***\n"
   ]
  },
  {
   "cell_type": "markdown",
   "metadata": {},
   "source": [
    "**Task 1: Create directory structure**\n",
    "\n",
    "Using the command line, a directory named data was created, with two subdirectories: timestamps and weather. \n",
    "\n",
    "\n",
    "```bash\n",
    "mkdir -p data/timestamps\n",
    "```\n",
    "```bash\n",
    "mkdir -p data/weather\n",
    "```\n",
    "-   mkdir = make directory\n",
    "-   -p = parent folder"
   ]
  },
  {
   "cell_type": "markdown",
   "metadata": {},
   "source": [
    "***"
   ]
  },
  {
   "cell_type": "markdown",
   "metadata": {},
   "source": [
    "**Task 2: Timestamps**\n",
    "\n",
    "In the data/timestamps directory the date command was used to output the current date and time to a file named now.txt. The append operator >> was used to append the data to the end of the file, therefore if rerun the output of the file is not overwritten. (x10)  </p>\n",
    "\n",
    "```bash\n",
    "date >> now.txt \n",
    "\n",
    "```\n",
    "-   more now.txt shows the contents of the file on the command line. \n",
    "\n"
   ]
  },
  {
   "cell_type": "markdown",
   "metadata": {},
   "source": [
    "***"
   ]
  },
  {
   "cell_type": "markdown",
   "metadata": {},
   "source": [
    "**Task 3: Formatting timestamps**\n",
    "\n",
    "The date command was formatted using the standard date time format. The formatted date time was appended to a new file -formatted.txt \n",
    "\n",
    "```bash \n",
    "date +\"%Y%m%d_%H%M%S\" >> formatted.txt \n",
    "```"
   ]
  },
  {
   "cell_type": "markdown",
   "metadata": {},
   "source": [
    "***"
   ]
  },
  {
   "cell_type": "markdown",
   "metadata": {},
   "source": [
    "**Task 4: Create timestamp files**\n",
    "\n",
    "A timestamped file was created by: \n",
    "```bash\n",
    "touch 'date +\"%Y%m%d_%H%M%S\"`\n",
    "```\n",
    "-   touch command creates a new file. \n",
    "-   embedding the date in backticks allows a timestamped txt file to be created. "
   ]
  },
  {
   "cell_type": "markdown",
   "metadata": {},
   "source": [
    "***"
   ]
  },
  {
   "cell_type": "markdown",
   "metadata": {},
   "source": [
    "**Task 5: Download todays weather data**\n",
    "\n",
    "In the data/weather directory, the latest weather data for Athenry weather station from Met Eireanns API was obtained using wget and saved as weather.json </p>\n",
    "```bash\n",
    " wget -O weather.json https://prodapi.metweb.ie/observations/athenry/today\n",
    "```\n",
    "-   -O give file name, shell redirection \n"
   ]
  },
  {
   "cell_type": "markdown",
   "metadata": {},
   "source": [
    "***"
   ]
  },
  {
   "cell_type": "markdown",
   "metadata": {},
   "source": [
    "**Task 6: Timestamp the data**\n",
    "\n",
    "A timestamped file was created using: \n",
    "```bash\n",
    "wget -O `date +\"%Y%m%d_%H%M%S\"` \n",
    "```"
   ]
  },
  {
   "cell_type": "markdown",
   "metadata": {},
   "source": [
    "***"
   ]
  },
  {
   "cell_type": "markdown",
   "metadata": {},
   "source": [
    "**Task 7: Write the script**\n",
    "\n",
    "A bash script called weather.sh was created to automate the process of collecting weather data and saving it as a timestamped file in the data/weather directory. \n",
    "```bash\n",
    "#! /bin/bash \n",
    "\n",
    "wget -O data/weather/`date +\"%Y%m%d_%H%M%S_athenry.json\"` https://prodapi.metweb.ie/observations/athenry/today \n",
    "```\n",
    "-  chmod x allows the files to be executed. \n"
   ]
  },
  {
   "cell_type": "markdown",
   "metadata": {},
   "source": [
    "***"
   ]
  },
  {
   "cell_type": "code",
   "execution_count": 1,
   "metadata": {},
   "outputs": [],
   "source": [
    "# import dataframe\n",
    "\n",
    "import pandas as pd"
   ]
  },
  {
   "cell_type": "code",
   "execution_count": 3,
   "metadata": {},
   "outputs": [],
   "source": [
    "df=pd.read_json('data/weather/20241118_132220_athenry.json')"
   ]
  },
  {
   "cell_type": "code",
   "execution_count": 5,
   "metadata": {},
   "outputs": [
    {
     "data": {
      "text/html": [
       "<div>\n",
       "<style scoped>\n",
       "    .dataframe tbody tr th:only-of-type {\n",
       "        vertical-align: middle;\n",
       "    }\n",
       "\n",
       "    .dataframe tbody tr th {\n",
       "        vertical-align: top;\n",
       "    }\n",
       "\n",
       "    .dataframe thead th {\n",
       "        text-align: right;\n",
       "    }\n",
       "</style>\n",
       "<table border=\"1\" class=\"dataframe\">\n",
       "  <thead>\n",
       "    <tr style=\"text-align: right;\">\n",
       "      <th></th>\n",
       "      <th>name</th>\n",
       "      <th>temperature</th>\n",
       "      <th>symbol</th>\n",
       "      <th>weatherDescription</th>\n",
       "      <th>text</th>\n",
       "      <th>windSpeed</th>\n",
       "      <th>windGust</th>\n",
       "      <th>cardinalWindDirection</th>\n",
       "      <th>windDirection</th>\n",
       "      <th>humidity</th>\n",
       "      <th>rainfall</th>\n",
       "      <th>pressure</th>\n",
       "      <th>dayName</th>\n",
       "      <th>date</th>\n",
       "      <th>reportTime</th>\n",
       "    </tr>\n",
       "  </thead>\n",
       "  <tbody>\n",
       "    <tr>\n",
       "      <th>0</th>\n",
       "      <td>Athenry</td>\n",
       "      <td>8</td>\n",
       "      <td>46n</td>\n",
       "      <td>Light rain</td>\n",
       "      <td>\"Light rain \"</td>\n",
       "      <td>6</td>\n",
       "      <td>-</td>\n",
       "      <td>NW</td>\n",
       "      <td>315</td>\n",
       "      <td>97</td>\n",
       "      <td>0.01</td>\n",
       "      <td>1014</td>\n",
       "      <td>Monday</td>\n",
       "      <td>2024-11-18</td>\n",
       "      <td>00:00</td>\n",
       "    </tr>\n",
       "    <tr>\n",
       "      <th>1</th>\n",
       "      <td>Athenry</td>\n",
       "      <td>8</td>\n",
       "      <td>46n</td>\n",
       "      <td>Light rain</td>\n",
       "      <td>\"Recent Drizzle \"</td>\n",
       "      <td>6</td>\n",
       "      <td>-</td>\n",
       "      <td>N</td>\n",
       "      <td>0</td>\n",
       "      <td>97</td>\n",
       "      <td>0.10</td>\n",
       "      <td>1014</td>\n",
       "      <td>Monday</td>\n",
       "      <td>2024-11-18</td>\n",
       "      <td>01:00</td>\n",
       "    </tr>\n",
       "    <tr>\n",
       "      <th>2</th>\n",
       "      <td>Athenry</td>\n",
       "      <td>7</td>\n",
       "      <td>05n</td>\n",
       "      <td>Rain showers</td>\n",
       "      <td>\"Rain shower\"</td>\n",
       "      <td>4</td>\n",
       "      <td>-</td>\n",
       "      <td>NW</td>\n",
       "      <td>315</td>\n",
       "      <td>97</td>\n",
       "      <td>0.01</td>\n",
       "      <td>1014</td>\n",
       "      <td>Monday</td>\n",
       "      <td>2024-11-18</td>\n",
       "      <td>02:00</td>\n",
       "    </tr>\n",
       "    <tr>\n",
       "      <th>3</th>\n",
       "      <td>Athenry</td>\n",
       "      <td>7</td>\n",
       "      <td>40n</td>\n",
       "      <td>Light rain showers</td>\n",
       "      <td>\"Recent Rain\"</td>\n",
       "      <td>2</td>\n",
       "      <td>-</td>\n",
       "      <td>N</td>\n",
       "      <td>0</td>\n",
       "      <td>97</td>\n",
       "      <td>0.01</td>\n",
       "      <td>1014</td>\n",
       "      <td>Monday</td>\n",
       "      <td>2024-11-18</td>\n",
       "      <td>03:00</td>\n",
       "    </tr>\n",
       "    <tr>\n",
       "      <th>4</th>\n",
       "      <td>Athenry</td>\n",
       "      <td>7</td>\n",
       "      <td>15n</td>\n",
       "      <td>Fog / Mist</td>\n",
       "      <td>\"Mist\"</td>\n",
       "      <td>2</td>\n",
       "      <td>-</td>\n",
       "      <td>S</td>\n",
       "      <td>180</td>\n",
       "      <td>99</td>\n",
       "      <td>0.00</td>\n",
       "      <td>1013</td>\n",
       "      <td>Monday</td>\n",
       "      <td>2024-11-18</td>\n",
       "      <td>04:00</td>\n",
       "    </tr>\n",
       "  </tbody>\n",
       "</table>\n",
       "</div>"
      ],
      "text/plain": [
       "      name  temperature symbol  weatherDescription               text  \\\n",
       "0  Athenry            8    46n         Light rain       \"Light rain \"   \n",
       "1  Athenry            8    46n         Light rain   \"Recent Drizzle \"   \n",
       "2  Athenry            7    05n        Rain showers      \"Rain shower\"   \n",
       "3  Athenry            7    40n  Light rain showers      \"Recent Rain\"   \n",
       "4  Athenry            7    15n          Fog / Mist             \"Mist\"   \n",
       "\n",
       "   windSpeed windGust cardinalWindDirection  windDirection  humidity  \\\n",
       "0          6        -                    NW            315        97   \n",
       "1          6        -                     N              0        97   \n",
       "2          4        -                    NW            315        97   \n",
       "3          2        -                     N              0        97   \n",
       "4          2        -                     S            180        99   \n",
       "\n",
       "   rainfall  pressure dayName       date reportTime  \n",
       "0      0.01      1014  Monday 2024-11-18      00:00  \n",
       "1      0.10      1014  Monday 2024-11-18      01:00  \n",
       "2      0.01      1014  Monday 2024-11-18      02:00  \n",
       "3      0.01      1014  Monday 2024-11-18      03:00  \n",
       "4      0.00      1013  Monday 2024-11-18      04:00  "
      ]
     },
     "execution_count": 5,
     "metadata": {},
     "output_type": "execute_result"
    }
   ],
   "source": [
    "df.head()"
   ]
  },
  {
   "cell_type": "code",
   "execution_count": 6,
   "metadata": {},
   "outputs": [
    {
     "data": {
      "text/html": [
       "<div>\n",
       "<style scoped>\n",
       "    .dataframe tbody tr th:only-of-type {\n",
       "        vertical-align: middle;\n",
       "    }\n",
       "\n",
       "    .dataframe tbody tr th {\n",
       "        vertical-align: top;\n",
       "    }\n",
       "\n",
       "    .dataframe thead th {\n",
       "        text-align: right;\n",
       "    }\n",
       "</style>\n",
       "<table border=\"1\" class=\"dataframe\">\n",
       "  <thead>\n",
       "    <tr style=\"text-align: right;\">\n",
       "      <th></th>\n",
       "      <th>name</th>\n",
       "      <th>temperature</th>\n",
       "      <th>symbol</th>\n",
       "      <th>weatherDescription</th>\n",
       "      <th>text</th>\n",
       "      <th>windSpeed</th>\n",
       "      <th>windGust</th>\n",
       "      <th>cardinalWindDirection</th>\n",
       "      <th>windDirection</th>\n",
       "      <th>humidity</th>\n",
       "      <th>rainfall</th>\n",
       "      <th>pressure</th>\n",
       "      <th>dayName</th>\n",
       "      <th>date</th>\n",
       "      <th>reportTime</th>\n",
       "    </tr>\n",
       "  </thead>\n",
       "  <tbody>\n",
       "    <tr>\n",
       "      <th>9</th>\n",
       "      <td>Athenry</td>\n",
       "      <td>6</td>\n",
       "      <td>46d</td>\n",
       "      <td>Light rain</td>\n",
       "      <td>\"Light rain \"</td>\n",
       "      <td>13</td>\n",
       "      <td>-</td>\n",
       "      <td>E</td>\n",
       "      <td>90</td>\n",
       "      <td>95</td>\n",
       "      <td>0.7</td>\n",
       "      <td>1011</td>\n",
       "      <td>Monday</td>\n",
       "      <td>2024-11-18</td>\n",
       "      <td>09:00</td>\n",
       "    </tr>\n",
       "    <tr>\n",
       "      <th>10</th>\n",
       "      <td>Athenry</td>\n",
       "      <td>6</td>\n",
       "      <td>46d</td>\n",
       "      <td>Light rain</td>\n",
       "      <td>\"Light rain \"</td>\n",
       "      <td>15</td>\n",
       "      <td>-</td>\n",
       "      <td>E</td>\n",
       "      <td>90</td>\n",
       "      <td>95</td>\n",
       "      <td>1.1</td>\n",
       "      <td>1010</td>\n",
       "      <td>Monday</td>\n",
       "      <td>2024-11-18</td>\n",
       "      <td>10:00</td>\n",
       "    </tr>\n",
       "    <tr>\n",
       "      <th>11</th>\n",
       "      <td>Athenry</td>\n",
       "      <td>6</td>\n",
       "      <td>46d</td>\n",
       "      <td>Light rain</td>\n",
       "      <td>\"Light rain \"</td>\n",
       "      <td>15</td>\n",
       "      <td>-</td>\n",
       "      <td>E</td>\n",
       "      <td>90</td>\n",
       "      <td>94</td>\n",
       "      <td>1.1</td>\n",
       "      <td>1009</td>\n",
       "      <td>Monday</td>\n",
       "      <td>2024-11-18</td>\n",
       "      <td>11:00</td>\n",
       "    </tr>\n",
       "    <tr>\n",
       "      <th>12</th>\n",
       "      <td>Athenry</td>\n",
       "      <td>6</td>\n",
       "      <td>46d</td>\n",
       "      <td>Light rain</td>\n",
       "      <td>\"Light rain \"</td>\n",
       "      <td>20</td>\n",
       "      <td>-</td>\n",
       "      <td>E</td>\n",
       "      <td>90</td>\n",
       "      <td>93</td>\n",
       "      <td>1.1</td>\n",
       "      <td>1008</td>\n",
       "      <td>Monday</td>\n",
       "      <td>2024-11-18</td>\n",
       "      <td>12:00</td>\n",
       "    </tr>\n",
       "    <tr>\n",
       "      <th>13</th>\n",
       "      <td>Athenry</td>\n",
       "      <td>6</td>\n",
       "      <td>46d</td>\n",
       "      <td>Light rain</td>\n",
       "      <td>\"Light rain \"</td>\n",
       "      <td>22</td>\n",
       "      <td>-</td>\n",
       "      <td>E</td>\n",
       "      <td>90</td>\n",
       "      <td>94</td>\n",
       "      <td>0.6</td>\n",
       "      <td>1006</td>\n",
       "      <td>Monday</td>\n",
       "      <td>2024-11-18</td>\n",
       "      <td>13:00</td>\n",
       "    </tr>\n",
       "  </tbody>\n",
       "</table>\n",
       "</div>"
      ],
      "text/plain": [
       "       name  temperature symbol weatherDescription           text  windSpeed  \\\n",
       "9   Athenry            6    46d        Light rain   \"Light rain \"         13   \n",
       "10  Athenry            6    46d        Light rain   \"Light rain \"         15   \n",
       "11  Athenry            6    46d        Light rain   \"Light rain \"         15   \n",
       "12  Athenry            6    46d        Light rain   \"Light rain \"         20   \n",
       "13  Athenry            6    46d        Light rain   \"Light rain \"         22   \n",
       "\n",
       "   windGust cardinalWindDirection  windDirection  humidity  rainfall  \\\n",
       "9         -                     E             90        95       0.7   \n",
       "10        -                     E             90        95       1.1   \n",
       "11        -                     E             90        94       1.1   \n",
       "12        -                     E             90        93       1.1   \n",
       "13        -                     E             90        94       0.6   \n",
       "\n",
       "    pressure dayName       date reportTime  \n",
       "9       1011  Monday 2024-11-18      09:00  \n",
       "10      1010  Monday 2024-11-18      10:00  \n",
       "11      1009  Monday 2024-11-18      11:00  \n",
       "12      1008  Monday 2024-11-18      12:00  \n",
       "13      1006  Monday 2024-11-18      13:00  "
      ]
     },
     "execution_count": 6,
     "metadata": {},
     "output_type": "execute_result"
    }
   ],
   "source": [
    "df.tail()"
   ]
  },
  {
   "cell_type": "markdown",
   "metadata": {},
   "source": [
    "***\n",
    "### End"
   ]
  }
 ],
 "metadata": {
  "kernelspec": {
   "display_name": "Python 3",
   "language": "python",
   "name": "python3"
  },
  "language_info": {
   "codemirror_mode": {
    "name": "ipython",
    "version": 3
   },
   "file_extension": ".py",
   "mimetype": "text/x-python",
   "name": "python",
   "nbconvert_exporter": "python",
   "pygments_lexer": "ipython3",
   "version": "3.12.1"
  }
 },
 "nbformat": 4,
 "nbformat_minor": 2
}
