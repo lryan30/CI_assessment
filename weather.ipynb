{
 "cells": [
  {
   "cell_type": "markdown",
   "metadata": {},
   "source": [
    "# <p style=\"font-family:Century Schoolbook , sans-serif;\"> Weather data </p>"
   ]
  },
  {
   "cell_type": "markdown",
   "metadata": {},
   "source": [
    "<p style=\"font-family:Century Schoolbook , sans-serif;\">Reference: https://github.com/ianmcloughlin/2425_computer_infrastructure/blob/main/README.md </p>"
   ]
  },
  {
   "cell_type": "markdown",
   "metadata": {},
   "source": [
    "***\n"
   ]
  },
  {
   "cell_type": "markdown",
   "metadata": {},
   "source": [
    "**<p style=\"font-family:Century Schoolbook , sans-serif;\">Task 1: Create directory structure</p>**\n",
    "\n",
    "<p style=\"font-family:Century Schoolbook , sans-serif;\">Using the command line, a directory named data was created, with two subdirectories: timestamps and weather. </p>\n",
    "\n",
    "   \n",
    "\n",
    "*<p style=\"font-family:Century Schoolbook , sans-serif;\">- mkdir - p data/timestamps </p>*\n",
    "*<p style=\"font-family:Century Schoolbook, sans-serif;\">- mkdir -p data/weather </p>*\n",
    "\n",
    "<p style=\"font-family:Century Schoolbook , sans-serif;\">mkdir = make directory </p>\n",
    "<p style=\"font-family:Century Schoolbook, sans-serif;\"> -p = parent folder \n",
    "</p>\n"
   ]
  },
  {
   "cell_type": "markdown",
   "metadata": {},
   "source": [
    "***"
   ]
  },
  {
   "cell_type": "markdown",
   "metadata": {},
   "source": [
    "**<p style=\"font-family:Century Schoolbook, sans-serif;\">Task 2: Timestamps </p>**\n",
    "\n",
    "<p style=\"font-family:Century Schoolbook, sans-serif;\">In the data/timestamps directory the date command was used to output the current date and time to a file named now.txt. The append operator >> was used to append the data to the end of the file, therefore if rerun the output of the file is not overwritten. (x10)  </p>\n",
    "\n",
    "- *<p style=\"font-family:Century Schoolbook, sans-serif;\">   date >> now.txt </p>*\n",
    "\n",
    "\n",
    "- *<p style=\"font-family:Century Schoolbook, sans-serif;\"> more now.txt* shows the contents of the file on the command line. </p>"
   ]
  },
  {
   "cell_type": "markdown",
   "metadata": {},
   "source": [
    "***"
   ]
  },
  {
   "cell_type": "markdown",
   "metadata": {},
   "source": [
    "**<p style=\"font-family:Century Schoolbook, sans-serif;\">Task 3: Formatting timestamps </p>**\n",
    "\n",
    "<p style=\"font-family:Century Schoolbook, sans-serif;\">The date command was formatted using the standard date time format. The formatted date time was appended to a new file -formatted.txt </p>\n",
    "\n",
    "-   *<p style=\"font-family:Century Schoolbook, sans-serif;\">date +\"%Y%m%d_%H%M%S\" >> formatted.txt </p>*"
   ]
  },
  {
   "cell_type": "markdown",
   "metadata": {},
   "source": [
    "***"
   ]
  },
  {
   "cell_type": "markdown",
   "metadata": {},
   "source": [
    "**<p style=\"font-family:Century Schoolbook, sans-serif;\">Task 4: Create timestamp files </p>**\n",
    "\n",
    "<p style=\"font-family:Century Schoolbook, sans-serif;\">A timestamped file was created by: </p>\n",
    "\n",
    "- *<p style=\"font-family:Century Schoolbook, sans-serif;\">touch 'date +\"%Y%m%d_%H%M%S\"`* </p>\n",
    "\n",
    "- <p style=\"font-family:Century Schoolbook, sans-serif;\">touch command creates a new file. </p> \n",
    "- <p style=\"font-family:Century Schoolbook, sans-serif;\">embedding the date in backticks allows a timestamped txt file to be created. </p>"
   ]
  },
  {
   "cell_type": "markdown",
   "metadata": {},
   "source": [
    "***"
   ]
  },
  {
   "cell_type": "markdown",
   "metadata": {},
   "source": [
    "**<p style=\"font-family:Century Schoolbook, sans-serif;\">Task 5: Download todays weather data</p>**\n",
    "\n",
    "<p style=\"font-family:Century Schoolbook, sans-serif;\">In the data/weather directory, the latest weather data for Athenry weather station from Met Eireanns API was obtained using wget and saved as weather.json </p>\n",
    "\n",
    "- *<p style=\"font-family:Century Schoolbook, sans-serif;\">wget -O weather.json https://prodapi.metweb.ie/observations/athenry/today* </p>\n",
    "\n",
    "-  <p style=\"font-family:Century Schoolbook, sans-serif;\"> -O give file name, shell redirection </p>\n"
   ]
  },
  {
   "cell_type": "markdown",
   "metadata": {},
   "source": [
    "***"
   ]
  },
  {
   "cell_type": "markdown",
   "metadata": {},
   "source": [
    "**<p style=\"font-family:Century Schoolbook , sans-serif;\">Task 6: Timestamp the data</p>**\n",
    "\n",
    "<p style=\"font-family:Century Schoolbook , sans-serif;\">A timestamped file was created using: </p>\n",
    "\n",
    "-  <p style=\"font-family:Century Schoolbook , sans-serif;\"> wget -O `date +\"%Y%m%d_%H%M%S\"` </p>"
   ]
  },
  {
   "cell_type": "markdown",
   "metadata": {},
   "source": [
    "***"
   ]
  },
  {
   "cell_type": "markdown",
   "metadata": {},
   "source": [
    "**<p style=\"font-family:Century Schoolbook , sans-serif;\">Task 7: Write the script</p>**\n",
    "\n",
    "<p style=\"font-family:Century Schoolbook , sans-serif;\">A bash script called weather.sh was created to automate the process of collecting weather data and saving it as a timestamped file in the data/weather directory. </p>\n",
    "\n",
    "- <p style=\"font-family:Century Schoolbook , sans-serif;\">#! /bin/bash </p\n",
    "\n",
    "- <p style=\"font-family:Century Schoolbook , sans-serif;\">wget -O data/weather/`date +\"%Y%m%d_%H%M%S_athenry.json\"` https://prodapi.metweb.ie/observations/athenry/today </p>\n",
    "\n",
    "- <p style=\"font-family:Century Schoolbook , sans-serif;\"> chmod x allows the files to be executed. \n"
   ]
  },
  {
   "cell_type": "markdown",
   "metadata": {},
   "source": [
    "***"
   ]
  }
 ],
 "metadata": {
  "language_info": {
   "name": "python"
  }
 },
 "nbformat": 4,
 "nbformat_minor": 2
}
